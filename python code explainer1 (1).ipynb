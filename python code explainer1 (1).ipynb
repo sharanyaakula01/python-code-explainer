{
 "cells": [
  {
   "cell_type": "code",
   "execution_count": null,
   "id": "926c8c5b-3c98-451c-84f5-a8ac0a543641",
   "metadata": {},
   "outputs": [],
   "source": [
    "!pip install google-generativeai"
   ]
  },
  {
   "cell_type": "code",
   "execution_count": null,
   "id": "f4db2555-2cc2-4030-99b0-026f54567b8c",
   "metadata": {},
   "outputs": [],
   "source": [
    "import google.generativeai as palm\n",
    "import os"
   ]
  },
  {
   "cell_type": "code",
   "execution_count": null,
   "id": "6fef76b4-83b2-4390-ad2a-cc808094d606",
   "metadata": {},
   "outputs": [],
   "source": [
    "#@title Insert PaLM API Key here\n",
    "palm.configure(api_key='INSERT KEY HERE')"
   ]
  },
  {
   "cell_type": "code",
   "execution_count": null,
   "id": "69e11825-c98b-4151-93e0-b4f709312ef1",
   "metadata": {},
   "outputs": [],
   "source": [
    "# Use the palm.list_models function to find available models\n",
    "# PaLM 2 available in 4 sizes: Gecko, Otter, Bison and Unicorn (largest)\n",
    "# https://developers.generativeai.google/models/language\n",
    "\n",
    "models = [m for m in palm.list_models() if 'generateText' in m.supported_generation_methods]\n",
    "model = models[0].name\n",
    "print(model)"
   ]
  },
  {
   "cell_type": "code",
   "execution_count": null,
   "id": "9c55b1c3-8b94-4234-b025-3e85b5a2f755",
   "metadata": {},
   "outputs": [],
   "source": [
    "# Set your input text\n",
    "prompt = \"Why is the sky blue?\"\n",
    "# prompt = \"What is Quantum Computing? Explain like I'm 5.\"\n",
    "\n",
    "completion = palm.generate_text(\n",
    "    model=model,\n",
    "    prompt=prompt,\n",
    "    temperature=0,\n",
    "    # temperature=0 >> more deterministic results // temperature=1 >> more randomness\n",
    "    max_output_tokens=100\n",
    "    # maximum length of response\n",
    ")\n",
    "\n",
    "print(completion.result)"
   ]
  },
  {
   "cell_type": "code",
   "execution_count": null,
   "id": "0516d942-a06b-49f8-88a8-e7605a78096f",
   "metadata": {},
   "outputs": [],
   "source": [
    "def get_completion(prompt):\n",
    "  completion = palm.generate_text(\n",
    "      model=model,\n",
    "      prompt=prompt,\n",
    "      temperature=0,\n",
    "      # The maximum length of the response\n",
    "      max_output_tokens=500,\n",
    "      )\n",
    "  response = completion.result\n",
    "  return response"
   ]
  },
  {
   "cell_type": "code",
   "execution_count": null,
   "id": "3c2ce9f4-a0fd-4be9-b9a3-115f3001699f",
   "metadata": {},
   "outputs": [],
   "source": [
    "# input_code = f\"\"\"\n",
    "# x = [1, 2, 3, 4, 5]\n",
    "# y = [i**2 for i in x if i%2 == 0]\n",
    "# print(y)\n",
    "# \"\"\"\n",
    "\n",
    "input_code = f\"\"\"\n",
    "def my_func(x):\n",
    "    if x > 5:\n",
    "        return \"High\"\n",
    "    else:\n",
    "        return \"Low\"\n",
    "result = my_func(4) + my_func(6) + my_func(4)\n",
    "print(result)\n",
    "\"\"\""
   ]
  },
  {
   "cell_type": "code",
   "execution_count": null,
   "id": "becab9cf-affd-451a-b25b-96cc245ae6e2",
   "metadata": {},
   "outputs": [],
   "source": [
    "prompt =f\"\"\"\n",
    "Your task is to act as a Python Code Explainer.\n",
    "I'll give you a Code Snippet.\n",
    "Your job is to explain the Code Snippet step-by-step.\n",
    "Also, compute the final output of the code.\n",
    "Code Snippet is shared below, delimited with triple backticks:\n",
    "```\n",
    "{input_code}\n",
    "```\n",
    "\"\"\"\n",
    "\n",
    "print(prompt)"
   ]
  },
  {
   "cell_type": "code",
   "execution_count": null,
   "id": "38abec6e-dd50-4544-8026-8062ecfd4583",
   "metadata": {},
   "outputs": [],
   "source": [
    "print(get_completion(prompt))"
   ]
  },
  {
   "cell_type": "code",
   "execution_count": null,
   "id": "31fc9e8f-664d-45db-a090-b66af24e7713",
   "metadata": {},
   "outputs": [],
   "source": [
    "python_code_examples = f\"\"\"\n",
    "---------------------\n",
    "Example 1: Code Snippet\n",
    "x = 10\n",
    "def foo():\n",
    "    global x\n",
    "    x = 5\n",
    "foo()\n",
    "print(x)\n",
    "\n",
    "Correct answer: 5\n",
    "Explanation: Inside the foo function, the global keyword is used to modify the global variable x to be 5.\n",
    "So, print(x) outside the function prints the modified value, which is 5.\n",
    "---------------------\n",
    "Example 2: Code Snippet\n",
    "def modify_list(input_list):\n",
    "    input_list.append(4)\n",
    "    input_list = [1, 2, 3]\n",
    "my_list = [0]\n",
    "modify_list(my_list)\n",
    "print(my_list)\n",
    "\n",
    "Correct answer: [0, 4]\n",
    "Explanation: Inside the modify_list function, an element 4 is appended to input_list.\n",
    "Then, input_list is reassigned to a new list [1, 2, 3], but this change doesn't affect the original list.\n",
    "So, print(my_list) outputs [0, 4].\n",
    "---------------------\n",
    "\"\"\""
   ]
  },
  {
   "cell_type": "code",
   "execution_count": null,
   "id": "23f2ecad-1e60-460f-a992-242c4b6d0d64",
   "metadata": {},
   "outputs": [],
   "source": [
    "# language = \"Python\"\n",
    "\n",
    "# input_code = f\"\"\"\n",
    "# def my_func(x):\n",
    "#     if x > 5:\n",
    "#         return \"High\"\n",
    "#     else:\n",
    "#         return \"Low\"\n",
    "# result = my_func(4) + my_func(6) + my_func(4)\n",
    "# print(result)\n",
    "# \"\"\"\n",
    "\n",
    "input_code = f\"\"\"\n",
    "def func(x):\n",
    "    if x > 0:\n",
    "        return x + func(x-1)\n",
    "    return 0\n",
    "\n",
    "result = func(5)\n",
    "print(result)\n",
    "\"\"\""
   ]
  },
  {
   "cell_type": "code",
   "execution_count": null,
   "id": "19c0ebc6-42a9-464d-a792-77ea424f4062",
   "metadata": {},
   "outputs": [],
   "source": [
    "prompt = f\"\"\"\n",
    "Your task is to act as a Python Code Explainer.\n",
    "I'll give you a Code Snippet.\n",
    "Your job is to explain the Code Snippet step-by-step.\n",
    "Break down the code into as many steps as possible.\n",
    "Share intermediate checkpoints along with results.\n",
    "State your Steps and Checkpoints in your output.\n",
    "Few good examples of Python code output between #### separator:\n",
    "####\n",
    "{python_code_examples}\n",
    "####\n",
    "Code Snippet is shared below, delimited with triple backticks:\n",
    "```\n",
    "{input_code}\n",
    "```\n",
    "\"\"\"\n",
    "\n",
    "print(prompt)"
   ]
  },
  {
   "cell_type": "code",
   "execution_count": null,
   "id": "0ad53ed0-1a48-42cc-bfb8-c5e31d674d59",
   "metadata": {},
   "outputs": [],
   "source": [
    "print(get_completion(prompt))"
   ]
  }
 ],
 "metadata": {
  "kernelspec": {
   "display_name": "Python 3 (ipykernel)",
   "language": "python",
   "name": "python3"
  },
  "language_info": {
   "codemirror_mode": {
    "name": "ipython",
    "version": 3
   },
   "file_extension": ".py",
   "mimetype": "text/x-python",
   "name": "python",
   "nbconvert_exporter": "python",
   "pygments_lexer": "ipython3",
   "version": "3.12.2"
  }
 },
 "nbformat": 4,
 "nbformat_minor": 5
}
